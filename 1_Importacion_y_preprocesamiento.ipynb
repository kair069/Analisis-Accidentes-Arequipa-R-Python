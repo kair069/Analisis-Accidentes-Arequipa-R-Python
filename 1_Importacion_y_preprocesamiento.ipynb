{
 "cells": [
  {
   "cell_type": "markdown",
   "id": "d38c3326",
   "metadata": {},
   "source": [
    "# Importacion de Datos"
   ]
  },
  {
   "cell_type": "code",
   "execution_count": 2,
   "id": "abedc477",
   "metadata": {},
   "outputs": [],
   "source": [
    "import pandas as pd\n",
    "import numpy as np\n",
    "from datetime import datetime\n",
    "\n",
    "# Importar el archivo CSV\n",
    "df = pd.read_csv('Accidentes de tránsito en carreteras-2020-2021-Sutran.csv', \n",
    "                 sep=';',  # El separador es punto y coma\n",
    "                 encoding='latin-1')  # Cambiado a latin-1 para solucionar el problema de encoding\n"
   ]
  },
  {
   "cell_type": "code",
   "execution_count": 3,
   "id": "d050410b",
   "metadata": {},
   "outputs": [
    {
     "name": "stdout",
     "output_type": "stream",
     "text": [
      "Dimensiones del dataset: (8155, 9)\n",
      "\n",
      "Primeras 5 filas:\n",
      "   FECHA_CORTE     FECHA   HORA DEPARTAMENTO CODIGO_VÍA KILOMETRO MODALIDAD  \\\n",
      "0     20211222  20200101  05:40         LIMA      PE-1S        24  DESPISTE   \n",
      "1     20211222  20200101  16:30    CAJAMARCA      PE-3N        74  DESPISTE   \n",
      "2     20211222  20200101  07:45        PASCO      PE-3N       103  DESPISTE   \n",
      "3     20211222  20200101  18:30    CAJAMARCA      PE-08       111  DESPISTE   \n",
      "4     20211222  20200101  18:40         LIMA      PE-1N       174  DESPISTE   \n",
      "\n",
      "  FALLECIDOS HERIDOS  \n",
      "0          0       0  \n",
      "1          0       0  \n",
      "2          0       1  \n",
      "3          0       2  \n",
      "4          0       5  \n"
     ]
    }
   ],
   "source": [
    "# Verificar la importación\n",
    "print(\"Dimensiones del dataset:\", df.shape)\n",
    "print(\"\\nPrimeras 5 filas:\")\n",
    "print(df.head())"
   ]
  },
  {
   "cell_type": "code",
   "execution_count": 4,
   "id": "ad2d8577",
   "metadata": {},
   "outputs": [
    {
     "name": "stdout",
     "output_type": "stream",
     "text": [
      "\n",
      "Nombres de las columnas:\n",
      "['FECHA_CORTE', 'FECHA', 'HORA', 'DEPARTAMENTO', 'CODIGO_VÍA', 'KILOMETRO', 'MODALIDAD', 'FALLECIDOS', 'HERIDOS']\n"
     ]
    }
   ],
   "source": [
    "print(\"\\nNombres de las columnas:\")\n",
    "print(df.columns.tolist())"
   ]
  },
  {
   "cell_type": "code",
   "execution_count": 5,
   "id": "31a86333",
   "metadata": {},
   "outputs": [
    {
     "name": "stdout",
     "output_type": "stream",
     "text": [
      "\n",
      "Tipos de datos:\n",
      "FECHA_CORTE      int64\n",
      "FECHA            int64\n",
      "HORA            object\n",
      "DEPARTAMENTO    object\n",
      "CODIGO_VÍA      object\n",
      "KILOMETRO       object\n",
      "MODALIDAD       object\n",
      "FALLECIDOS      object\n",
      "HERIDOS         object\n",
      "dtype: object\n"
     ]
    }
   ],
   "source": [
    "print(\"\\nTipos de datos:\")\n",
    "print(df.dtypes)"
   ]
  },
  {
   "cell_type": "code",
   "execution_count": 6,
   "id": "a3781f38",
   "metadata": {},
   "outputs": [
    {
     "name": "stdout",
     "output_type": "stream",
     "text": [
      "\n",
      "Información general del dataset:\n",
      "<class 'pandas.core.frame.DataFrame'>\n",
      "RangeIndex: 8155 entries, 0 to 8154\n",
      "Data columns (total 9 columns):\n",
      " #   Column        Non-Null Count  Dtype \n",
      "---  ------        --------------  ----- \n",
      " 0   FECHA_CORTE   8155 non-null   int64 \n",
      " 1   FECHA         8155 non-null   int64 \n",
      " 2   HORA          8155 non-null   object\n",
      " 3   DEPARTAMENTO  8155 non-null   object\n",
      " 4   CODIGO_VÍA    8155 non-null   object\n",
      " 5   KILOMETRO     8155 non-null   object\n",
      " 6   MODALIDAD     8155 non-null   object\n",
      " 7   FALLECIDOS    8155 non-null   object\n",
      " 8   HERIDOS       8155 non-null   object\n",
      "dtypes: int64(2), object(7)\n",
      "memory usage: 573.5+ KB\n",
      "None\n"
     ]
    }
   ],
   "source": [
    "print(\"\\nInformación general del dataset:\")\n",
    "print(df.info())"
   ]
  },
  {
   "cell_type": "code",
   "execution_count": 7,
   "id": "f78d43bd",
   "metadata": {},
   "outputs": [
    {
     "name": "stdout",
     "output_type": "stream",
     "text": [
      "\n",
      "Valores únicos en MODALIDAD:\n",
      "MODALIDAD\n",
      "DESPISTE     3829\n",
      "CHOQUE       3623\n",
      "ATROPELLO     361\n",
      "ESPECIAL      186\n",
      "VOLCADURA     128\n",
      "N.I.           28\n",
      "Name: count, dtype: int64\n"
     ]
    }
   ],
   "source": [
    "# Revisar valores únicos en columnas categóricas\n",
    "print(\"\\nValores únicos en MODALIDAD:\")\n",
    "print(df['MODALIDAD'].value_counts())"
   ]
  },
  {
   "cell_type": "code",
   "execution_count": 8,
   "id": "47ab6e16",
   "metadata": {},
   "outputs": [
    {
     "name": "stdout",
     "output_type": "stream",
     "text": [
      "\n",
      "Valores únicos en DEPARTAMENTO:\n",
      "DEPARTAMENTO\n",
      "LIMA             1558\n",
      "AREQUIPA          795\n",
      "JUNIN             715\n",
      "ANCASH            602\n",
      "PUNO              529\n",
      "ICA               377\n",
      "CAJAMARCA         350\n",
      "CUSCO             346\n",
      "LAMBAYEQUE        343\n",
      "LA LIBERTAD       329\n",
      "PIURA             327\n",
      "SAN MARTIN        274\n",
      "APURIMAC          202\n",
      "MADRE DE DIOS     191\n",
      "HUANUCO           174\n",
      "AYACUCHO          168\n",
      "MOQUEGUA          155\n",
      "UCAYALI           154\n",
      "AMAZONAS          152\n",
      "TACNA             151\n",
      "LORETO             82\n",
      "PASCO              77\n",
      "HUANCAVELICA       62\n",
      "TUMBES             25\n",
      "N.I.                7\n",
      "CALLAO              6\n",
      "Arequipa            2\n",
      "Puno                1\n",
      "Cusco               1\n",
      "Name: count, dtype: int64\n"
     ]
    }
   ],
   "source": [
    "print(\"\\nValores únicos en DEPARTAMENTO:\")\n",
    "print(df['DEPARTAMENTO'].value_counts())"
   ]
  },
  {
   "cell_type": "code",
   "execution_count": 9,
   "id": "639b0db7",
   "metadata": {},
   "outputs": [
    {
     "name": "stdout",
     "output_type": "stream",
     "text": [
      "\n",
      "Conteo de valores 'N.I.' por columna:\n",
      "HORA: 88 valores N.I.\n",
      "DEPARTAMENTO: 7 valores N.I.\n",
      "CODIGO_VÍA: 46 valores N.I.\n",
      "KILOMETRO: 45 valores N.I.\n",
      "MODALIDAD: 28 valores N.I.\n",
      "FALLECIDOS: 3 valores N.I.\n",
      "HERIDOS: 10 valores N.I.\n"
     ]
    }
   ],
   "source": [
    "# Verificar valores faltantes o 'N.I.'\n",
    "print(\"\\nConteo de valores 'N.I.' por columna:\")\n",
    "for col in df.columns:\n",
    "    ni_count = (df[col] == 'N.I.').sum()\n",
    "    if ni_count > 0:\n",
    "        print(f\"{col}: {ni_count} valores N.I.\")"
   ]
  },
  {
   "cell_type": "code",
   "execution_count": 10,
   "id": "534154e4",
   "metadata": {},
   "outputs": [
    {
     "name": "stdout",
     "output_type": "stream",
     "text": [
      "\n",
      "Valores nulos por columna:\n",
      "FECHA_CORTE     0\n",
      "FECHA           0\n",
      "HORA            0\n",
      "DEPARTAMENTO    0\n",
      "CODIGO_VÍA      0\n",
      "KILOMETRO       0\n",
      "MODALIDAD       0\n",
      "FALLECIDOS      0\n",
      "HERIDOS         0\n",
      "dtype: int64\n"
     ]
    }
   ],
   "source": [
    "# Verificar valores nulos\n",
    "print(\"\\nValores nulos por columna:\")\n",
    "print(df.isnull().sum())"
   ]
  },
  {
   "cell_type": "markdown",
   "id": "67934290",
   "metadata": {},
   "source": [
    "# LIMPIEZA DE DATOS - ACCIDENTES DE TRÁNSITO"
   ]
  },
  {
   "cell_type": "code",
   "execution_count": 11,
   "id": "4e38304b",
   "metadata": {},
   "outputs": [
    {
     "name": "stdout",
     "output_type": "stream",
     "text": [
      "=== ANTES DE LA LIMPIEZA ===\n",
      "Número total de registros: 8155\n",
      "Valores N.I. en FALLECIDOS: 3\n",
      "Valores N.I. en HERIDOS: 10\n"
     ]
    }
   ],
   "source": [
    "print(\"=== ANTES DE LA LIMPIEZA ===\")\n",
    "print(f\"Número total de registros: {len(df)}\")\n",
    "print(f\"Valores N.I. en FALLECIDOS: {(df['FALLECIDOS'] == 'N.I.').sum()}\")\n",
    "print(f\"Valores N.I. en HERIDOS: {(df['HERIDOS'] == 'N.I.').sum()}\")"
   ]
  },
  {
   "cell_type": "code",
   "execution_count": 12,
   "id": "e5fdbeaf",
   "metadata": {},
   "outputs": [],
   "source": [
    "# 1. REEMPLAZAR 'N.I.' POR NaN (valores faltantes)\n",
    "df_clean = df.copy()"
   ]
  },
  {
   "cell_type": "code",
   "execution_count": 13,
   "id": "bf77d74a",
   "metadata": {},
   "outputs": [],
   "source": [
    "# Reemplazar 'N.I.' por NaN en todas las columnas\n",
    "df_clean = df_clean.replace('N.I.', np.nan)"
   ]
  },
  {
   "cell_type": "code",
   "execution_count": 14,
   "id": "dbe8742c",
   "metadata": {},
   "outputs": [
    {
     "name": "stdout",
     "output_type": "stream",
     "text": [
      "\n",
      "=== DESPUÉS DE REEMPLAZAR N.I. POR NaN ===\n",
      "Valores faltantes por columna:\n",
      "FECHA_CORTE      0\n",
      "FECHA            0\n",
      "HORA            88\n",
      "DEPARTAMENTO     7\n",
      "CODIGO_VÍA      46\n",
      "KILOMETRO       45\n",
      "MODALIDAD       28\n",
      "FALLECIDOS       3\n",
      "HERIDOS         10\n",
      "dtype: int64\n"
     ]
    }
   ],
   "source": [
    "print(\"\\n=== DESPUÉS DE REEMPLAZAR N.I. POR NaN ===\")\n",
    "print(\"Valores faltantes por columna:\")\n",
    "print(df_clean.isnull().sum())"
   ]
  },
  {
   "cell_type": "code",
   "execution_count": 15,
   "id": "93f561ab",
   "metadata": {},
   "outputs": [
    {
     "name": "stdout",
     "output_type": "stream",
     "text": [
      "\n",
      "=== CONVERSIÓN A NUMÉRICO ===\n"
     ]
    }
   ],
   "source": [
    "# 2. CONVERTIR VARIABLES NUMÉRICAS\n",
    "print(\"\\n=== CONVERSIÓN A NUMÉRICO ===\")"
   ]
  },
  {
   "cell_type": "code",
   "execution_count": 16,
   "id": "042fef5b",
   "metadata": {},
   "outputs": [],
   "source": [
    "# Convertir KILOMETRO a numérico\n",
    "df_clean['KILOMETRO'] = pd.to_numeric(df_clean['KILOMETRO'], errors='coerce')\n"
   ]
  },
  {
   "cell_type": "code",
   "execution_count": 17,
   "id": "f9a6480e",
   "metadata": {},
   "outputs": [],
   "source": [
    "# Convertir FALLECIDOS a numérico (CRUCIAL para tu tesis)\n",
    "df_clean['FALLECIDOS'] = pd.to_numeric(df_clean['FALLECIDOS'], errors='coerce')\n"
   ]
  },
  {
   "cell_type": "code",
   "execution_count": 18,
   "id": "9b941210",
   "metadata": {},
   "outputs": [],
   "source": [
    "# Convertir HERIDOS a numérico (CRUCIAL para tu tesis)\n",
    "df_clean['HERIDOS'] = pd.to_numeric(df_clean['HERIDOS'], errors='coerce')"
   ]
  },
  {
   "cell_type": "code",
   "execution_count": 19,
   "id": "de837592",
   "metadata": {},
   "outputs": [
    {
     "name": "stdout",
     "output_type": "stream",
     "text": [
      "Tipos de datos después de la conversión:\n",
      "KILOMETRO     float64\n",
      "FALLECIDOS    float64\n",
      "HERIDOS       float64\n",
      "dtype: object\n"
     ]
    }
   ],
   "source": [
    "print(\"Tipos de datos después de la conversión:\")\n",
    "print(df_clean[['KILOMETRO', 'FALLECIDOS', 'HERIDOS']].dtypes)"
   ]
  },
  {
   "cell_type": "code",
   "execution_count": 20,
   "id": "490688f2",
   "metadata": {},
   "outputs": [
    {
     "name": "stdout",
     "output_type": "stream",
     "text": [
      "\n",
      "=== VERIFICACIÓN DE LA LIMPIEZA ===\n",
      "Registros totales: 8155\n",
      "FALLECIDOS - Valores faltantes: 3\n",
      "HERIDOS - Valores faltantes: 10\n"
     ]
    }
   ],
   "source": [
    "# 3. VERIFICAR LA LIMPIEZA\n",
    "print(\"\\n=== VERIFICACIÓN DE LA LIMPIEZA ===\")\n",
    "print(f\"Registros totales: {len(df_clean)}\")\n",
    "print(f\"FALLECIDOS - Valores faltantes: {df_clean['FALLECIDOS'].isnull().sum()}\")\n",
    "print(f\"HERIDOS - Valores faltantes: {df_clean['HERIDOS'].isnull().sum()}\")"
   ]
  },
  {
   "cell_type": "code",
   "execution_count": 21,
   "id": "26d0fa4b",
   "metadata": {},
   "outputs": [
    {
     "name": "stdout",
     "output_type": "stream",
     "text": [
      "\n",
      "=== ESTADÍSTICAS BÁSICAS - FALLECIDOS ===\n",
      "count    8152.000000\n",
      "mean        0.168916\n",
      "std         0.792586\n",
      "min         0.000000\n",
      "25%         0.000000\n",
      "50%         0.000000\n",
      "75%         0.000000\n",
      "max        33.000000\n",
      "Name: FALLECIDOS, dtype: float64\n"
     ]
    }
   ],
   "source": [
    "# 4. ESTADÍSTICAS BÁSICAS DE LAS VARIABLES PRINCIPALES\n",
    "print(\"\\n=== ESTADÍSTICAS BÁSICAS - FALLECIDOS ===\")\n",
    "print(df_clean['FALLECIDOS'].describe())"
   ]
  },
  {
   "cell_type": "code",
   "execution_count": 22,
   "id": "9a2f62a6",
   "metadata": {},
   "outputs": [
    {
     "name": "stdout",
     "output_type": "stream",
     "text": [
      "\n",
      "=== ESTADÍSTICAS BÁSICAS - HERIDOS ===\n",
      "count    8145.000000\n",
      "mean        1.310129\n",
      "std         2.546730\n",
      "min         0.000000\n",
      "25%         0.000000\n",
      "50%         1.000000\n",
      "75%         2.000000\n",
      "max        71.000000\n",
      "Name: HERIDOS, dtype: float64\n"
     ]
    }
   ],
   "source": [
    "print(\"\\n=== ESTADÍSTICAS BÁSICAS - HERIDOS ===\")\n",
    "print(df_clean['HERIDOS'].describe())"
   ]
  },
  {
   "cell_type": "code",
   "execution_count": 23,
   "id": "5eb18242",
   "metadata": {},
   "outputs": [
    {
     "name": "stdout",
     "output_type": "stream",
     "text": [
      "\n",
      "=== ANÁLISIS DE CEROS ===\n"
     ]
    }
   ],
   "source": [
    "# 5. CONTEO DE CEROS (IMPORTANTE PARA TU TESIS)\n",
    "print(\"\\n=== ANÁLISIS DE CEROS ===\")\n",
    "fallecidos_ceros = (df_clean['FALLECIDOS'] == 0).sum()\n",
    "heridos_ceros = (df_clean['HERIDOS'] == 0).sum()"
   ]
  },
  {
   "cell_type": "code",
   "execution_count": 24,
   "id": "e8e89747",
   "metadata": {},
   "outputs": [
    {
     "name": "stdout",
     "output_type": "stream",
     "text": [
      "FALLECIDOS:\n",
      "  - Total de ceros: 7199\n",
      "  - Porcentaje de ceros: 88.28%\n"
     ]
    }
   ],
   "source": [
    "print(f\"FALLECIDOS:\")\n",
    "print(f\"  - Total de ceros: {fallecidos_ceros}\")\n",
    "print(f\"  - Porcentaje de ceros: {(fallecidos_ceros/len(df_clean))*100:.2f}%\")"
   ]
  },
  {
   "cell_type": "code",
   "execution_count": 25,
   "id": "1b2dab98",
   "metadata": {},
   "outputs": [
    {
     "name": "stdout",
     "output_type": "stream",
     "text": [
      "HERIDOS:\n",
      "  - Total de ceros: 3452\n",
      "  - Porcentaje de ceros: 42.33%\n"
     ]
    }
   ],
   "source": [
    "print(f\"HERIDOS:\")\n",
    "print(f\"  - Total de ceros: {heridos_ceros}\")\n",
    "print(f\"  - Porcentaje de ceros: {(heridos_ceros/len(df_clean))*100:.2f}%\")"
   ]
  },
  {
   "cell_type": "code",
   "execution_count": 26,
   "id": "d0153aab",
   "metadata": {},
   "outputs": [
    {
     "name": "stdout",
     "output_type": "stream",
     "text": [
      "\n",
      "✓ Limpieza completada\n"
     ]
    }
   ],
   "source": [
    "# 6. GUARDAR DATASET LIMPIO (OPCIONAL)\n",
    "# df_clean.to_csv('accidentes_limpio.csv', index=False, encoding='utf-8')\n",
    "print(\"\\n✓ Limpieza completada\")"
   ]
  },
  {
   "cell_type": "code",
   "execution_count": 27,
   "id": "dcc4ccf1",
   "metadata": {},
   "outputs": [
    {
     "name": "stdout",
     "output_type": "stream",
     "text": [
      "=== NOMBRES ORIGINALES ===\n",
      "Columnas actuales:\n",
      "['FECHA_CORTE', 'FECHA', 'HORA', 'DEPARTAMENTO', 'CODIGO_VÍA', 'KILOMETRO', 'MODALIDAD', 'FALLECIDOS', 'HERIDOS']\n",
      "\n",
      "=== NOMBRES NUEVOS ===\n",
      "Columnas renombradas:\n",
      "['fecha_corte', 'fecha_accidente', 'hora_accidente', 'departamento', 'codigo_via', 'kilometro', 'tipo_accidente', 'num_fallecidos', 'num_heridos']\n",
      "\n",
      "=== VERIFICACIÓN ===\n",
      "Primeras 3 filas con nuevos nombres:\n",
      "   fecha_corte  fecha_accidente hora_accidente departamento codigo_via  \\\n",
      "0     20211222         20200101          05:40         LIMA      PE-1S   \n",
      "1     20211222         20200101          16:30    CAJAMARCA      PE-3N   \n",
      "2     20211222         20200101          07:45        PASCO      PE-3N   \n",
      "\n",
      "   kilometro tipo_accidente  num_fallecidos  num_heridos  \n",
      "0       24.0       DESPISTE             0.0          0.0  \n",
      "1       74.0       DESPISTE             0.0          0.0  \n",
      "2      103.0       DESPISTE             0.0          1.0  \n",
      "\n",
      "Tipos de datos:\n",
      "fecha_corte          int64\n",
      "fecha_accidente      int64\n",
      "hora_accidente      object\n",
      "departamento        object\n",
      "codigo_via          object\n",
      "kilometro          float64\n",
      "tipo_accidente      object\n",
      "num_fallecidos     float64\n",
      "num_heridos        float64\n",
      "dtype: object\n",
      "\n",
      "=== VARIABLES PRINCIPALES PARA LA TESIS ===\n",
      "Variable 1: num_fallecidos\n",
      "Variable 2: num_heridos\n",
      "\n",
      "Resumen rápido:\n",
      "- Registros totales: 8155\n",
      "- Ceros en num_fallecidos: 7199 (88.3%)\n",
      "- Ceros en num_heridos: 3452 (42.3%)\n",
      "\n",
      "✓ Columnas renombradas exitosamente\n"
     ]
    }
   ],
   "source": [
    "# RENOMBRAR COLUMNAS PARA MEJOR COMPRENSIÓN\n",
    "\n",
    "print(\"=== NOMBRES ORIGINALES ===\")\n",
    "print(\"Columnas actuales:\")\n",
    "print(df_clean.columns.tolist())\n",
    "\n",
    "# Diccionario con los nuevos nombres más descriptivos\n",
    "nuevos_nombres = {\n",
    "    'FECHA_CORTE': 'fecha_corte',\n",
    "    'FECHA': 'fecha_accidente', \n",
    "    'HORA': 'hora_accidente',\n",
    "    'DEPARTAMENTO': 'departamento',\n",
    "    'CODIGO_VÍA': 'codigo_via',\n",
    "    'KILOMETRO': 'kilometro',\n",
    "    'MODALIDAD': 'tipo_accidente',\n",
    "    'FALLECIDOS': 'num_fallecidos',\n",
    "    'HERIDOS': 'num_heridos'\n",
    "}\n",
    "\n",
    "# Aplicar el renombrado\n",
    "df_final = df_clean.rename(columns=nuevos_nombres)\n",
    "\n",
    "print(\"\\n=== NOMBRES NUEVOS ===\")\n",
    "print(\"Columnas renombradas:\")\n",
    "print(df_final.columns.tolist())\n",
    "\n",
    "# Verificar que todo esté correcto\n",
    "print(\"\\n=== VERIFICACIÓN ===\")\n",
    "print(\"Primeras 3 filas con nuevos nombres:\")\n",
    "print(df_final.head(3))\n",
    "\n",
    "print(\"\\nTipos de datos:\")\n",
    "print(df_final.dtypes)\n",
    "\n",
    "print(\"\\n=== VARIABLES PRINCIPALES PARA LA TESIS ===\")\n",
    "print(\"Variable 1: num_fallecidos\")\n",
    "print(\"Variable 2: num_heridos\")\n",
    "\n",
    "print(f\"\\nResumen rápido:\")\n",
    "print(f\"- Registros totales: {len(df_final)}\")\n",
    "print(f\"- Ceros en num_fallecidos: {(df_final['num_fallecidos'] == 0).sum()} ({((df_final['num_fallecidos'] == 0).sum()/len(df_final))*100:.1f}%)\")\n",
    "print(f\"- Ceros en num_heridos: {(df_final['num_heridos'] == 0).sum()} ({((df_final['num_heridos'] == 0).sum()/len(df_final))*100:.1f}%)\")\n",
    "\n",
    "print(\"\\n✓ Columnas renombradas exitosamente\")"
   ]
  },
  {
   "cell_type": "code",
   "execution_count": 28,
   "id": "6526001f",
   "metadata": {},
   "outputs": [
    {
     "name": "stdout",
     "output_type": "stream",
     "text": [
      "=== NOMBRES ACTUALES ===\n",
      "Columnas actuales en df_final:\n",
      "['fecha_corte', 'fecha_accidente', 'hora_accidente', 'departamento', 'codigo_via', 'kilometro', 'tipo_accidente', 'num_fallecidos', 'num_heridos']\n",
      "\n",
      "=== NOMBRES MEJORADOS ===\n",
      "Columnas con mejoras adicionales:\n",
      "['fecha_corte', 'fecha_accidente', 'hora_accidente', 'departamento_ubicacion', 'codigo_carretera', 'kilometro_via', 'tipo_accidente', 'num_fallecidos', 'num_heridos']\n",
      "\n",
      "=== VERIFICACIÓN FINAL ===\n",
      "Primeras 3 filas con nombres finales:\n",
      "   fecha_accidente departamento_ubicacion codigo_carretera  kilometro_via  \\\n",
      "0         20200101                   LIMA            PE-1S           24.0   \n",
      "1         20200101              CAJAMARCA            PE-3N           74.0   \n",
      "2         20200101                  PASCO            PE-3N          103.0   \n",
      "\n",
      "  tipo_accidente  num_fallecidos  num_heridos  \n",
      "0       DESPISTE             0.0          0.0  \n",
      "1       DESPISTE             0.0          0.0  \n",
      "2       DESPISTE             0.0          1.0  \n",
      "\n",
      "=== NOMBRES FINALES PARA LA TESIS ===\n",
      "✓ fecha_corte\n",
      "✓ fecha_accidente\n",
      "✓ hora_accidente\n",
      "✓ departamento_ubicacion\n",
      "✓ codigo_carretera\n",
      "✓ kilometro_via\n",
      "✓ tipo_accidente\n",
      "⭐ num_fallecidos (variable principal)\n",
      "⭐ num_heridos (variable principal)\n",
      "\n",
      "✓ Mejoras adicionales aplicadas exitosamente\n"
     ]
    }
   ],
   "source": [
    "# SEGUNDA MEJORA DE NOMBRES - Sobre df_final existente\n",
    "\n",
    "print(\"=== NOMBRES ACTUALES ===\")\n",
    "print(\"Columnas actuales en df_final:\")\n",
    "print(df_final.columns.tolist())\n",
    "\n",
    "# Mejoras adicionales para mayor claridad\n",
    "mejoras_adicionales = {\n",
    "    'departamento': 'departamento_ubicacion',\n",
    "    'codigo_via': 'codigo_carretera', \n",
    "    'kilometro': 'kilometro_via'\n",
    "}\n",
    "\n",
    "# Aplicar las mejoras adicionales\n",
    "df_final = df_final.rename(columns=mejoras_adicionales)\n",
    "\n",
    "print(\"\\n=== NOMBRES MEJORADOS ===\")\n",
    "print(\"Columnas con mejoras adicionales:\")\n",
    "print(df_final.columns.tolist())\n",
    "\n",
    "# Verificar el resultado final\n",
    "print(\"\\n=== VERIFICACIÓN FINAL ===\")\n",
    "print(\"Primeras 3 filas con nombres finales:\")\n",
    "print(df_final[['fecha_accidente', 'departamento_ubicacion', 'codigo_carretera', \n",
    "                'kilometro_via', 'tipo_accidente', 'num_fallecidos', 'num_heridos']].head(3))\n",
    "\n",
    "print(\"\\n=== NOMBRES FINALES PARA LA TESIS ===\")\n",
    "print(\"✓ fecha_corte\")\n",
    "print(\"✓ fecha_accidente\") \n",
    "print(\"✓ hora_accidente\")\n",
    "print(\"✓ departamento_ubicacion\")\n",
    "print(\"✓ codigo_carretera\")\n",
    "print(\"✓ kilometro_via\")\n",
    "print(\"✓ tipo_accidente\")\n",
    "print(\"⭐ num_fallecidos (variable principal)\")\n",
    "print(\"⭐ num_heridos (variable principal)\")\n",
    "\n",
    "print(\"\\n✓ Mejoras adicionales aplicadas exitosamente\")"
   ]
  },
  {
   "cell_type": "markdown",
   "id": "5d0fe634",
   "metadata": {},
   "source": [
    "# Exportacion despues de Preprocesamiento"
   ]
  },
  {
   "cell_type": "code",
   "execution_count": 29,
   "id": "bed10137",
   "metadata": {},
   "outputs": [
    {
     "name": "stdout",
     "output_type": "stream",
     "text": [
      "✅ EXPORTACIÓN COMPLETADA\n",
      "📁 Archivo creado: Accidentes_Transito_Limpio.xlsx\n",
      "\n",
      "📊 CONTENIDO DEL ARCHIVO:\n",
      "📋 Hoja 1: 'Datos_Limpios' - Dataset completo limpio (8,155 registros)\n",
      "📋 Hoja 2: 'Diccionario_Variables' - Descripción de todas las variables\n",
      "📋 Hoja 3: 'Estadisticas_Generales' - Resumen estadístico del dataset\n",
      "\n",
      "🎯 VARIABLES PRINCIPALES PARA TU TESIS:\n",
      "⭐ num_fallecidos: 88.28% de ceros\n",
      "⭐ num_heridos: 42.33% de ceros\n",
      "\n",
      "✅ Dataset listo para análisis de exceso de ceros\n"
     ]
    }
   ],
   "source": [
    "# EXPORTAR DATASET LIMPIO Y DICCIONARIO ACTUALIZADO A EXCEL\n",
    "\n",
    "# Crear el diccionario de datos actualizado\n",
    "diccionario_actualizado = {\n",
    "    'Variable': [\n",
    "        'fecha_corte',\n",
    "        'fecha_accidente', \n",
    "        'hora_accidente',\n",
    "        'departamento_ubicacion',\n",
    "        'codigo_carretera',\n",
    "        'kilometro_via',\n",
    "        'tipo_accidente',\n",
    "        'num_fallecidos',\n",
    "        'num_heridos'\n",
    "    ],\n",
    "    'Descripción': [\n",
    "        'Fecha de corte de la información',\n",
    "        'Fecha del accidente de tránsito',\n",
    "        'Hora del accidente de tránsito',\n",
    "        'Departamento donde se localizó el accidente de tránsito',\n",
    "        'Código de la carretera en la que se reportó el accidente',\n",
    "        'Kilómetro de la vía en la que se reportó el accidente',\n",
    "        'Modalidad del accidente: atropello, choque, despiste, especial, volcadura',\n",
    "        'Número de personas reportadas como fallecidas',\n",
    "        'Número de personas reportadas como heridas'\n",
    "    ],\n",
    "    'Tipo_de_Dato': [\n",
    "        'Entero',\n",
    "        'Entero',\n",
    "        'Texto',\n",
    "        'Texto',\n",
    "        'Texto',\n",
    "        'Decimal',\n",
    "        'Texto',\n",
    "        'Decimal',\n",
    "        'Decimal'\n",
    "    ],\n",
    "    'Valores_Faltantes': [\n",
    "        0,\n",
    "        0,\n",
    "        88,\n",
    "        7,\n",
    "        46,\n",
    "        45,\n",
    "        28,\n",
    "        3,\n",
    "        10\n",
    "    ],\n",
    "    'Información_Adicional': [\n",
    "        'Formato: AAAAMMDD',\n",
    "        'Formato: AAAAMMDD',\n",
    "        'Formato: HH:MM. 88 valores como NaN',\n",
    "        '7 valores como NaN',\n",
    "        '46 valores como NaN. Códigos tipo PE-1S, PE-3N',\n",
    "        '45 valores como NaN',\n",
    "        '28 valores como NaN. Categorías principales',\n",
    "        '3 valores como NaN. Variable principal para análisis de exceso de ceros',\n",
    "        '10 valores como NaN. Variable principal para análisis de exceso de ceros'\n",
    "    ]\n",
    "}\n",
    "\n",
    "# Convertir a DataFrame\n",
    "dict_df = pd.DataFrame(diccionario_actualizado)\n",
    "\n",
    "# Información del dataset\n",
    "info_dataset = {\n",
    "    'Estadística': [\n",
    "        'Total de registros',\n",
    "        'Período de datos',\n",
    "        'Ceros en num_fallecidos',\n",
    "        'Porcentaje ceros num_fallecidos',\n",
    "        'Ceros en num_heridos', \n",
    "        'Porcentaje ceros num_heridos',\n",
    "        'Media num_fallecidos',\n",
    "        'Media num_heridos',\n",
    "        'Máximo num_fallecidos',\n",
    "        'Máximo num_heridos'\n",
    "    ],\n",
    "    'Valor': [\n",
    "        len(df_final),\n",
    "        '2020-2021',\n",
    "        (df_final['num_fallecidos'] == 0).sum(),\n",
    "        f\"{((df_final['num_fallecidos'] == 0).sum()/len(df_final))*100:.2f}%\",\n",
    "        (df_final['num_heridos'] == 0).sum(),\n",
    "        f\"{((df_final['num_heridos'] == 0).sum()/len(df_final))*100:.2f}%\",\n",
    "        f\"{df_final['num_fallecidos'].mean():.3f}\",\n",
    "        f\"{df_final['num_heridos'].mean():.3f}\",\n",
    "        df_final['num_fallecidos'].max(),\n",
    "        df_final['num_heridos'].max()\n",
    "    ]\n",
    "}\n",
    "\n",
    "info_df = pd.DataFrame(info_dataset)\n",
    "\n",
    "# Exportar a Excel con múltiples hojas\n",
    "nombre_archivo = 'Accidentes_Transito_Limpio.xlsx'\n",
    "\n",
    "with pd.ExcelWriter(nombre_archivo, engine='openpyxl') as writer:\n",
    "    # Hoja 1: Dataset limpio\n",
    "    df_final.to_excel(writer, sheet_name='Datos_Limpios', index=False)\n",
    "    \n",
    "    # Hoja 2: Diccionario de variables\n",
    "    dict_df.to_excel(writer, sheet_name='Diccionario_Variables', index=False)\n",
    "    \n",
    "    # Hoja 3: Estadísticas generales\n",
    "    info_df.to_excel(writer, sheet_name='Estadisticas_Generales', index=False)\n",
    "\n",
    "print(\"✅ EXPORTACIÓN COMPLETADA\")\n",
    "print(f\"📁 Archivo creado: {nombre_archivo}\")\n",
    "print(\"\\n📊 CONTENIDO DEL ARCHIVO:\")\n",
    "print(\"📋 Hoja 1: 'Datos_Limpios' - Dataset completo limpio (8,155 registros)\")\n",
    "print(\"📋 Hoja 2: 'Diccionario_Variables' - Descripción de todas las variables\")\n",
    "print(\"📋 Hoja 3: 'Estadisticas_Generales' - Resumen estadístico del dataset\")\n",
    "\n",
    "print(\"\\n🎯 VARIABLES PRINCIPALES PARA TU TESIS:\")\n",
    "print(\"⭐ num_fallecidos: 88.28% de ceros\")\n",
    "print(\"⭐ num_heridos: 42.33% de ceros\")\n",
    "print(\"\\n✅ Dataset listo para análisis de exceso de ceros\")"
   ]
  }
 ],
 "metadata": {
  "kernelspec": {
   "display_name": "Python 3",
   "language": "python",
   "name": "python3"
  },
  "language_info": {
   "codemirror_mode": {
    "name": "ipython",
    "version": 3
   },
   "file_extension": ".py",
   "mimetype": "text/x-python",
   "name": "python",
   "nbconvert_exporter": "python",
   "pygments_lexer": "ipython3",
   "version": "3.12.7"
  }
 },
 "nbformat": 4,
 "nbformat_minor": 5
}
